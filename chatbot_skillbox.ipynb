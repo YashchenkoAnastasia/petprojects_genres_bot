{
 "cells": [
  {
   "cell_type": "code",
   "execution_count": 1,
   "id": "1ce60c39",
   "metadata": {},
   "outputs": [],
   "source": [
    "import nltk\n",
    "import json\n",
    "import random\n",
    "from sklearn.feature_extraction.text import CountVectorizer\n",
    "from sklearn.ensemble import RandomForestClassifier\n",
    "from sklearn.datasets import make_classification\n",
    "import numpy as np\n",
    "from sklearn.model_selection import train_test_split"
   ]
  },
  {
   "cell_type": "code",
   "execution_count": 2,
   "id": "e1176ff5",
   "metadata": {},
   "outputs": [],
   "source": [
    "with open ('BOT_CONFIG_new.json') as f:\n",
    "    bot_config = json.load(f)\n",
    "    "
   ]
  },
  {
   "cell_type": "code",
   "execution_count": 3,
   "id": "e96bf2c8",
   "metadata": {},
   "outputs": [],
   "source": [
    "# text1 = 'мама мыла раму '\n",
    "# text2 = 'корова шла и мама её остановила '\n",
    "# text3 = 'ее раму украли и сломали '\n",
    "# text4 = (text1+text2+text3).split()\n",
    "# vocab = list((set(text4)))\n",
    "# #vocab=['и', 'раму', 'ее', 'её', 'остановила', 'корова', 'украли', 'мыла', 'сломали', 'шла', 'мама']\n",
    "# vector_of_text1 = [1,1,1,0,0,0,0,0,0]"
   ]
  },
  {
   "cell_type": "code",
   "execution_count": 3,
   "id": "65b89386",
   "metadata": {},
   "outputs": [
    {
     "data": {
      "text/plain": [
       "0.8753894080996885"
      ]
     },
     "execution_count": 3,
     "metadata": {},
     "output_type": "execute_result"
    }
   ],
   "source": [
    "X = []#все тексты которые есть\n",
    "Y = []#все интенты всех текстов\n",
    "for intent in bot_config['intents']:\n",
    "    for example in bot_config['intents'][intent]['examples']:\n",
    "        X.append(example)\n",
    "        Y.append(intent)\n",
    "vectorizer = CountVectorizer()\n",
    "X_vecorized = vectorizer.fit_transform(X)\n",
    "len(vectorizer.get_feature_names_out())\n",
    "#print(X.toarray())\n",
    "#643 текста и 643 вектора длиной 713\n",
    "clf = RandomForestClassifier()\n",
    "clf.fit(X_vecorized, Y)\n",
    "clf.score(X_vecorized,Y)"
   ]
  },
  {
   "cell_type": "code",
   "execution_count": 4,
   "id": "6b29ea9a",
   "metadata": {},
   "outputs": [
    {
     "data": {
      "text/plain": [
       "array(['whereyoufrom'], dtype='<U31')"
      ]
     },
     "execution_count": 4,
     "metadata": {},
     "output_type": "execute_result"
    }
   ],
   "source": [
    "clf.predict(vectorizer.transform(['откуда ты']))"
   ]
  },
  {
   "cell_type": "code",
   "execution_count": 5,
   "id": "59daeb56",
   "metadata": {},
   "outputs": [
    {
     "name": "stdout",
     "output_type": "stream",
     "text": [
      "stop\n",
      "может в лас вегас?\n"
     ]
    }
   ],
   "source": [
    "def get_intent_by_model(text):\n",
    "    return clf.predict(vectorizer.transform([text]))[0]\n",
    "                        \n",
    "def bot(text):\n",
    "    intent = get_intent_by_model(text)\n",
    "    return random.choice(bot_config['intents'][intent]['responses'])\n",
    "\n",
    "input_text=''\n",
    "while input_text !='stop':\n",
    "    input_text = input()\n",
    "    response = bot(input_text)\n",
    "    print(response)\n",
    "\n",
    "\n",
    "    "
   ]
  },
  {
   "cell_type": "markdown",
   "id": "e9111f14",
   "metadata": {},
   "source": [
    "## Тестирование"
   ]
  },
  {
   "cell_type": "code",
   "execution_count": 6,
   "id": "685e3859",
   "metadata": {},
   "outputs": [],
   "source": [
    "from sklearn.linear_model import LogisticRegression"
   ]
  },
  {
   "cell_type": "code",
   "execution_count": 7,
   "id": "84da0807",
   "metadata": {},
   "outputs": [
    {
     "name": "stdout",
     "output_type": "stream",
     "text": [
      "0.8908382066276803\n",
      "0.14728682170542637\n"
     ]
    }
   ],
   "source": [
    "X = []#все тексты которые есть\n",
    "Y = []#все интенты всех текстов\n",
    "for intent in bot_config['intents']:\n",
    "    for example in bot_config['intents'][intent]['examples']:\n",
    "        X.append(example)\n",
    "        Y.append(intent)\n",
    "X_train, X_test, y_train, y_test = train_test_split(\n",
    "    X, Y, test_size=0.2, random_state=42)\n",
    "vectorizer = CountVectorizer(ngram_range=(1, 3),analyzer='char_wb',min_df=50)\n",
    "X_train_vectorized = vectorizer.fit_transform(X_train)\n",
    "X_test_vectorized = vectorizer.transform(X_test)\n",
    "clf = LogisticRegression(C=10,max_iter=9000)\n",
    "clf.fit(X_train_vectorized, y_train)\n",
    "print(clf.score(X_train_vectorized,y_train))\n",
    "\n",
    "print(clf.score(X_test_vectorized,y_test))\n",
    "\n"
   ]
  },
  {
   "cell_type": "markdown",
   "id": "a0595605",
   "metadata": {},
   "source": [
    "Интеграция с телеграмом"
   ]
  },
  {
   "cell_type": "code",
   "execution_count": null,
   "id": "f76ff83e",
   "metadata": {},
   "outputs": [
    {
     "name": "stderr",
     "output_type": "stream",
     "text": [
      "2021-11-16 16:19:31,974 - apscheduler.scheduler - INFO - Scheduler started\n"
     ]
    }
   ],
   "source": [
    "#!/usr/bin/env python\n",
    "# pylint: disable=C0116,W0613\n",
    "# This program is dedicated to the public domain under the CC0 license.\n",
    "\n",
    "\"\"\"\n",
    "Simple Bot to reply to Telegram messages.\n",
    "\n",
    "First, a few handler functions are defined. Then, those functions are passed to\n",
    "the Dispatcher and registered at their respective places.\n",
    "Then, the bot is started and runs until we press Ctrl-C on the command line.\n",
    "\n",
    "Usage:\n",
    "Basic Echobot example, repeats messages.\n",
    "Press Ctrl-C on the command line or send a signal to the process to stop the\n",
    "bot.\n",
    "\"\"\"\n",
    "\n",
    "import logging\n",
    "\n",
    "from telegram import Update, ForceReply\n",
    "from telegram.ext import Updater, CommandHandler, MessageHandler, Filters, CallbackContext\n",
    "\n",
    "# Enable logging\n",
    "logging.basicConfig(\n",
    "    format='%(asctime)s - %(name)s - %(levelname)s - %(message)s', level=logging.INFO\n",
    ")\n",
    "\n",
    "logger = logging.getLogger(__name__)\n",
    "\n",
    "\n",
    "# Define a few command handlers. These usually take the two arguments update and\n",
    "# context.\n",
    "def start(update: Update, context: CallbackContext) -> None:\n",
    "    \"\"\"Send a message when the command /start is issued.\"\"\"\n",
    "    user = update.effective_user\n",
    "    update.message.reply_markdown_v2(\n",
    "        fr'Hi {user.mention_markdown_v2()}\\!',\n",
    "        reply_markup=ForceReply(selective=True),\n",
    "    )\n",
    "\n",
    "\n",
    "def help_command(update: Update, context: CallbackContext) -> None:\n",
    "    \"\"\"Send a message when the command /help is issued.\"\"\"\n",
    "    update.message.reply_text('Help!')\n",
    "\n",
    "\n",
    "def echo(update: Update, context: CallbackContext) -> None:\n",
    "    \"\"\"Echo the user message.\"\"\"\n",
    "    update.message.reply_text(bot(update.message.text))\n",
    "\n",
    "\n",
    "def main() -> None:\n",
    "    \"\"\"Start the bot.\"\"\"\n",
    "    # Create the Updater and pass it your bot's token.\n",
    "    updater = Updater(\"2101904469:AAGpjZItUS8MgkslkA5Ij8Thz2U-T4bOu2A\")\n",
    "\n",
    "    # Get the dispatcher to register handlers\n",
    "    dispatcher = updater.dispatcher\n",
    "\n",
    "    # on different commands - answer in Telegram\n",
    "    dispatcher.add_handler(CommandHandler(\"start\", start))\n",
    "    dispatcher.add_handler(CommandHandler(\"help\", help_command))\n",
    "\n",
    "    # on non command i.e message - echo the message on Telegram\n",
    "    dispatcher.add_handler(MessageHandler(Filters.text & ~Filters.command, echo))\n",
    "\n",
    "    # Start the Bot\n",
    "    updater.start_polling()\n",
    "\n",
    "    # Run the bot until you press Ctrl-C or the process receives SIGINT,\n",
    "    # SIGTERM or SIGABRT. This should be used most of the time, since\n",
    "    # start_polling() is non-blocking and will stop the bot gracefully.\n",
    "    updater.idle()\n",
    "\n",
    "\n",
    "if __name__ == '__main__':\n",
    "    main()"
   ]
  },
  {
   "cell_type": "code",
   "execution_count": 8,
   "id": "9fcc95be",
   "metadata": {},
   "outputs": [],
   "source": [
    "def clean(text):\n",
    "    clean_text = ''\n",
    "    for ch in text.lower():\n",
    "        if ch in 'абвгдеёжзийклмнопрстуфхцчшщъыьэюя ':\n",
    "            clean_text = clean_text + ch\n",
    "    return clean_text\n",
    "    \n",
    "def get_intent(text):\n",
    "    for intent in bot_config['intense'].keys():\n",
    "        for example in bot_config['intense'][intent]['examples']:\n",
    "            cleaned_example = clean(example)\n",
    "            cleaned_text = clean(text)\n",
    "            if nltk.edit_distance(cleaned_example,cleaned_text)/min(len(cleaned_example),len(cleaned_text)) < 0.4:\n",
    "                return intent\n",
    "    return 'not_found'"
   ]
  },
  {
   "cell_type": "code",
   "execution_count": 10,
   "id": "2fe4e0fa",
   "metadata": {},
   "outputs": [],
   "source": [
    "def clean(text):\n",
    "    clean_text = ''\n",
    "    for ch in text:\n",
    "        if ch in 'абвгдеёжзийклмнопрстуфхцчшщъыьэюя ':\n",
    "            clean_text = clean_text + ch\n",
    "        return clean_text\n",
    "    "
   ]
  },
  {
   "cell_type": "code",
   "execution_count": 11,
   "id": "8533e06c",
   "metadata": {},
   "outputs": [
    {
     "data": {
      "text/plain": [
       "'п'"
      ]
     },
     "execution_count": 11,
     "metadata": {},
     "output_type": "execute_result"
    }
   ],
   "source": [
    "clean('привет!!')"
   ]
  },
  {
   "cell_type": "code",
   "execution_count": null,
   "id": "e57825cb",
   "metadata": {},
   "outputs": [],
   "source": []
  }
 ],
 "metadata": {
  "kernelspec": {
   "display_name": "Python 3",
   "language": "python",
   "name": "python3"
  },
  "language_info": {
   "codemirror_mode": {
    "name": "ipython",
    "version": 3
   },
   "file_extension": ".py",
   "mimetype": "text/x-python",
   "name": "python",
   "nbconvert_exporter": "python",
   "pygments_lexer": "ipython3",
   "version": "3.8.10"
  }
 },
 "nbformat": 4,
 "nbformat_minor": 5
}
